{
 "cells": [
  {
   "cell_type": "markdown",
   "id": "0dbc5666-3325-41a6-a59d-97ff4ccf50a9",
   "metadata": {},
   "source": [
    "# Pipeline"
   ]
  },
  {
   "cell_type": "code",
   "execution_count": 10,
   "id": "c9f33eb3-ce7d-4797-85e7-690dd0afeba6",
   "metadata": {},
   "outputs": [],
   "source": [
    "import pandas as pd\n",
    "from sklearn.model_selection import train_test_split\n",
    "\n",
    "# leemos los datos\n",
    "data = pd.read_csv('data/melb_data.csv')\n",
    "\n",
    "# definimos el target y los predictores\n",
    "y = data.Price\n",
    "X = data.drop(['Price'],axis = 1)\n",
    "\n",
    "# separamos los datos\n",
    "X_train_full, X_valid_full, y_train, y_valid = train_test_split(X,y,train_size = 0.8,test_size = 0.2, random_state = 0)\n",
    "\n",
    "# utilizaremos solo columnas que seleccionemos\n",
    "# para las columnas categoricas utilizaremos columnas con cardinalidad baja relativa\n",
    "categoric_cols = [cname for cname in X_train_full.columns if X_train_full[cname].nunique() < 10 and\n",
    "                  X_train_full[cname].dtype == 'object']\n",
    "# separamos las columnas categoricas\n",
    "numeric_cols = [cname for cname in X_train_full.columns if X_train_full[cname].dtype in ['int64','float64']]\n",
    "\n",
    "# ahora hacemos un conjunto de los datos seleccionados\n",
    "my_cols = categoric_cols + numeric_cols\n",
    "X_train = X_train_full[my_cols].copy()\n",
    "X_valid = X_valid_full[my_cols].copy()"
   ]
  },
  {
   "cell_type": "code",
   "execution_count": 28,
   "id": "baeff113-ea99-47cf-989e-ee36d3bf31d2",
   "metadata": {},
   "outputs": [],
   "source": [
    "# definimos los pasos que hara\n",
    "from sklearn.compose import ColumnTransformer\n",
    "from sklearn.pipeline import Pipeline\n",
    "from sklearn.impute import SimpleImputer\n",
    "from sklearn.preprocessing import OneHotEncoder\n",
    "\n",
    "# las columnas numericas seran imputadas\n",
    "numeric_transformer = SimpleImputer(strategy = 'constant')\n",
    "\n",
    "# las columnas categoricas seran imputadas y codeadas con OneHotEncoder\n",
    "categoric_transformer = Pipeline(steps = [\n",
    "    ('impute', SimpleImputer(strategy = 'most_frequent')),\n",
    "    ('one', OneHotEncoder(handle_unknown = 'ignore'))\n",
    "])\n",
    "\n",
    "# empacamos los preceso que llevamos\n",
    "preprocessor = ColumnTransformer(\n",
    "    transformers = [\n",
    "        ('num', numeric_transformer, numeric_cols),\n",
    "        ('cat', categoric_transformer, categoric_cols)\n",
    "    ])"
   ]
  },
  {
   "cell_type": "code",
   "execution_count": 30,
   "id": "9ced0ff0-5d5a-4b59-ac6a-68bdd5592080",
   "metadata": {},
   "outputs": [],
   "source": [
    "# elejimos el modelo\n",
    "from sklearn.ensemble import RandomForestRegressor\n",
    "model = RandomForestRegressor(n_estimators = 100,random_state = 0)"
   ]
  },
  {
   "cell_type": "code",
   "execution_count": 32,
   "id": "788854af-9cdc-4bd6-8a08-374f9b19e1f0",
   "metadata": {},
   "outputs": [
    {
     "name": "stdout",
     "output_type": "stream",
     "text": [
      "MAE 160679.18917034855\n"
     ]
    }
   ],
   "source": [
    "from sklearn.metrics import mean_absolute_error\n",
    "# Construimos y validamos el pipeline\n",
    "my_pipeline = Pipeline(steps = [\n",
    "    ('preprocessor', preprocessor),\n",
    "    ('model', model)\n",
    "])\n",
    "\n",
    "# ajustamos el pipeline\n",
    "my_pipeline.fit(X_train,y_train)\n",
    "# validamos el pipeline\n",
    "preds = my_pipeline.predict(X_valid)\n",
    "# vemos el puntaje\n",
    "score = mean_absolute_error(y_valid,preds)\n",
    "# imprimimos el mae\n",
    "print(\"MAE\", score)"
   ]
  },
  {
   "cell_type": "code",
   "execution_count": null,
   "id": "fa193353-6641-4003-8129-8170b7b11938",
   "metadata": {},
   "outputs": [],
   "source": []
  }
 ],
 "metadata": {
  "kernelspec": {
   "display_name": "Python 3 (ipykernel)",
   "language": "python",
   "name": "python3"
  },
  "language_info": {
   "codemirror_mode": {
    "name": "ipython",
    "version": 3
   },
   "file_extension": ".py",
   "mimetype": "text/x-python",
   "name": "python",
   "nbconvert_exporter": "python",
   "pygments_lexer": "ipython3",
   "version": "3.12.4"
  }
 },
 "nbformat": 4,
 "nbformat_minor": 5
}
