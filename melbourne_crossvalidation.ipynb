{
 "cells": [
  {
   "cell_type": "markdown",
   "id": "3108fb56-7110-4633-a6d7-d7114e0e97c5",
   "metadata": {},
   "source": [
    "# Cross-Validation\n",
    "¿Que es validacion-cruzada (cross-validation)?\n",
    "Es un proceso de modelacion para diferentes subconjuntos del conjunto de datos que calcula diferentes medidas de la calidad del modelo.\n",
    "Supongamos que tenemos un conjunto al que queremos separar con 20% del conjunto total. Queremos decir que lo queremos separar en 5 \"folds\".\n",
    "\n",
    "# Cuando deberiamos de usar Corss-Validation?\n",
    "Cross_validation nos da mas exactitud para la calidad de modelos. Que es especificamente mas imprtante que escoger entre que modelos podemos decidir. Este metodo funciona para conjuntos grandes como pequeños."
   ]
  },
  {
   "cell_type": "code",
   "execution_count": 4,
   "id": "18db4287-8662-484b-9d06-ddc899028467",
   "metadata": {},
   "outputs": [],
   "source": [
    "import pandas as pd\n",
    "\n",
    "# leemos los datos \n",
    "data = pd.read_csv('data/melb_data.csv')\n",
    "\n",
    "# seleccionamos las columnas que seran los predictores\n",
    "cols_to_use = ['Rooms', 'Distance', 'Landsize', 'BuildingArea', 'YearBuilt']\n",
    "X = data[cols_to_use]\n",
    "\n",
    "# seleccionamos el target\n",
    "y = data.Price"
   ]
  },
  {
   "cell_type": "markdown",
   "id": "74591262-48e6-46bd-837b-7ed2d5d13bf5",
   "metadata": {},
   "source": [
    "Entonces, definimos el Pipeline que usara un imputer para llenar los valores perdidos, missing values, y de modelo usaremos RandomForestRegressor."
   ]
  },
  {
   "cell_type": "code",
   "execution_count": 19,
   "id": "ec2042ab-67d9-499f-ad3e-80650a9e15bb",
   "metadata": {},
   "outputs": [],
   "source": [
    "from sklearn.ensemble import RandomForestRegressor\n",
    "from sklearn.pipeline import Pipeline\n",
    "from sklearn.impute import SimpleImputer\n",
    "\n",
    "# hacemos el pipeline\n",
    "my_pipeline = Pipeline(steps = [\n",
    "    ('preprocessor', SimpleImputer()),\n",
    "    ('model', RandomForestRegressor(n_estimators = 50, random_state = 0))\n",
    "])"
   ]
  },
  {
   "cell_type": "code",
   "execution_count": 25,
   "id": "c62f074b-5a60-4025-91d4-057a3765429e",
   "metadata": {},
   "outputs": [
    {
     "name": "stdout",
     "output_type": "stream",
     "text": [
      "MAE scores:\n",
      " [301628.7893587  303164.4782723  287298.331666   236061.84754543\n",
      " 260383.45111427]\n",
      "MAE scores avg:  277707.3795913405\n"
     ]
    }
   ],
   "source": [
    "# obtenemos la validacion cruzada \n",
    "from sklearn.model_selection import cross_val_score\n",
    "\n",
    "scores = -1 * cross_val_score(my_pipeline, X, y,\n",
    "                              cv=5,\n",
    "                              scoring='neg_mean_absolute_error')\n",
    "\n",
    "print(\"MAE scores:\\n\", scores)\n",
    "print(\"MAE scores avg: \", scores.mean())"
   ]
  },
  {
   "cell_type": "code",
   "execution_count": null,
   "id": "0ebe5c78-7a99-4a41-98bb-15b38bd53dae",
   "metadata": {},
   "outputs": [],
   "source": []
  }
 ],
 "metadata": {
  "kernelspec": {
   "display_name": "Python 3 (ipykernel)",
   "language": "python",
   "name": "python3"
  },
  "language_info": {
   "codemirror_mode": {
    "name": "ipython",
    "version": 3
   },
   "file_extension": ".py",
   "mimetype": "text/x-python",
   "name": "python",
   "nbconvert_exporter": "python",
   "pygments_lexer": "ipython3",
   "version": "3.12.4"
  }
 },
 "nbformat": 4,
 "nbformat_minor": 5
}
